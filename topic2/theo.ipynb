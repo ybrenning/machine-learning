{
 "cells": [
  {
   "cell_type": "markdown",
   "metadata": {},
   "source": [
    "# Foundations of Machine Learning\n",
    "\n",
    "## Unit 2\n",
    "\n",
    "**Exercise 1**\n",
    "(a)\n",
    "- Initialization: $ \\theta = \\langle \\bot, \\bot, \\bot, \\bot, \\bot \\rangle $\n",
    "- Example 1: $ \\theta = \\langle \\text{Barbera, yes, mild, high} \\rangle $\n",
    "- Example 2: (ignored)\n",
    "- Example 3: (ignored)\n",
    "- Example 4: $ \\theta = \\langle \\text{Barbera, yes, mild, ?} \\rangle $\n",
    "\n",
    "(b)\n",
    "Initialization: $ H_G = \\{\\langle ?, ?, ?, ? \\rangle\\}, H_S = \\{\\langle \\bot, \\bot, \\bot, \\bot \\rangle \\} $\n",
    "- Example 1:\n",
    "  All hypotheses in $ H_G $ are consistent with $ \\langle Barbera, yes, mild, high \\rangle $, so $ H_G $ stays the same.\n",
    "\n",
    "  However, $ \\langle \\bot, \\bot, \\bot, \\bot \\rangle $ is not consistent with the object, so we remove it. The minimal generalization of this that still covers $ \\langle Barbera, yes, mild, high \\rangle $ is $ \\langle Barbera, yes, mild, high \\rangle $, which is also less general than the hypothesis in $ H_G $, so the new specific boundary is now $ H_S = \\{\\langle Barbera, yes, mild, high \\rangle\\} $.\n",
    "\n",
    "- Example 2:\n",
    "  All hypotheses in $ H_S $ are consistent with $ \\langle Barbera, yes, strong, high \\rangle $, so $ H_S $ stays the same.\n",
    "\n",
    "  We can see that $ \\langle ?, ?, ?, ? \\rangle $ is too general and remove it from the boundary. \n",
    "  There are four minimal specializations of the removed hypothesis, which are:\n",
    "  $ \\langle Riesling, ?, ?, ? \\rangle, \\langle ?, no, ?, ? \\rangle, \\langle ?, ?, mild, ? \\rangle, \\langle ?, ?, ?, medium \\rangle $.\n",
    "\n",
    "  However, only $ \\langle ?, ?, mild, ? \\rangle $ are generalizations of $ H_S $, such that $ H_G $ now becomes $ \\{\\langle ?, ?, mild, ? \\rangle\\} $.\n",
    "\n",
    "- Example 3:\n",
    "  All hypotheses in $ H_S $ are consistent with $ \\langle Riesling, no, mild, medium \\rangle $, so $ H_S $ stays the same.\n",
    "\n",
    "  Now we remove $ \\langle ?, ?, mild, ? \\rangle $ from $ H_G $ and add the minimal specializations:\n",
    "  $ \\langle Barbera, ?, mild, ? \\rangle, \\langle ?, yes, mild, ? \\rangle, \\langle ?, ?, mild, high \\rangle, \\langle ?, ?, mild, low \\rangle $.\n",
    "\n",
    "  We retain only the ones with more specific counterparts in $ H_S $:\n",
    "  \n",
    "  $ H_G = \\{\\langle Barbera, ?, mild, ? \\rangle, \\langle ?, yes, mild, ? \\rangle, \\langle ?, ?, mild, high \\rangle\\} $.\n",
    "\n",
    "  There is not hypothesis in $ H_S $ that is more specific than any of these hypotheses, so they remain in $ H_G $.\n",
    "\n",
    "- Example 4:\n",
    "  The hypothesis $ \\langle Barbera, yes, mild, low \\rangle $ is inconsistent with the hypothesis $ \\langle ?, ?, mild, high \\rangle $ in $ H_G $, so we remove it.\n",
    "\n",
    "  Now we remove $ \\langle Barbera, yes, mild, high \\rangle $ from $ H_S $ and add the minimal generalization $ \\langle Barbera, yes, mild, ? \\rangle $ such that $ H_S = \\{\\langle Barbera, yes, mild, ? \\rangle\\} $. Since $ H_S $ only contains one hypothesis, there is no other hypothesis we can compare it to, so we don't remove anything from $ H_S $.\n",
    "\n",
    "Finally, we return the vector space $ V(H_G, H_S) $ with $ H_G = \\{\\langle Barbera, ?, mild, ? \\rangle, \\langle ?, yes, mild, ? \\rangle\\}, H_S = \\{\\langle Barbera, yes, mild, ? \\rangle\\} $.\n"
   ]
  }
 ],
 "metadata": {
  "kernelspec": {
   "display_name": "Python 3",
   "language": "python",
   "name": "python3"
  },
  "language_info": {
   "name": "python",
   "version": "3.10.6 (tags/v3.10.6:9c7b4bd, Aug  1 2022, 21:53:49) [MSC v.1932 64 bit (AMD64)]"
  },
  "orig_nbformat": 4,
  "vscode": {
   "interpreter": {
    "hash": "d0620f40e2353b6d35268ab276de4393f4e99801270e1c452fb1fe73380c5b64"
   }
  }
 },
 "nbformat": 4,
 "nbformat_minor": 2
}
