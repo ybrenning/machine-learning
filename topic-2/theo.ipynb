{
 "cells": [
  {
   "cell_type": "markdown",
   "metadata": {},
   "source": [
    "# Foundations of Machine Learning\n",
    "\n",
    "## Unit 1\n",
    "\n",
    "**Exercise 1**\n",
    "(a)\n",
    "- Initialization: $ \\theta = \\langle \\bot, \\bot, \\bot, \\bot, \\bot \\rangle $\n",
    "- Example 1: $ \\theta = \\langle \\text{Barbera, yes, mild, high} \\rangle $\n",
    "- Example 2: (ignored)\n",
    "- Example 3: (ignored)\n",
    "- Example 4: $ \\theta = \\langle \\text{Barbera, yes, mild, ?} \\rangle $ "
   ]
  }
 ],
 "metadata": {
  "kernelspec": {
   "display_name": "Python 3.10.6 ('venv': venv)",
   "language": "python",
   "name": "python3"
  },
  "language_info": {
   "name": "python",
   "version": "3.10.6"
  },
  "orig_nbformat": 4,
  "vscode": {
   "interpreter": {
    "hash": "2ce58bda20f9c32c7810d3b0c8bb6188982de9ec3bd5dffb35c69c9bf9c8687f"
   }
  }
 },
 "nbformat": 4,
 "nbformat_minor": 2
}
