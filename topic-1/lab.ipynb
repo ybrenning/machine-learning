{
 "cells": [
  {
   "cell_type": "markdown",
   "metadata": {},
   "source": [
    "# Foundations of Machine Learning\n",
    "\n",
    "## Lab Session 1\n",
    "\n",
    "**Exercise 1**\n",
    "\n",
    "(a) The loss $ l_2 $ can be equal to 0 (meaning optimal) for multiple different model parameters.\n",
    "\n",
    "(b)\n",
    "\\begin{equation*}\n",
    "\\begin{split}\n",
    "l_2 = 0 & = \\frac{1}{2} \\cdot (6 - w_0 - 4w_1)^2 \\\\ \\\\\n",
    "0 & = 6 - w_0 - 4w_1 \\\\\n",
    "4w_1 & = 6 - w_0 \\\\\n",
    "w_1 & = \\frac{3}{2} - w_0\n",
    "\\end{split}\n",
    "\\end{equation*}"
   ]
  }
 ],
 "metadata": {
  "kernelspec": {
   "display_name": "Python 3.10.6 ('venv': venv)",
   "language": "python",
   "name": "python3"
  },
  "language_info": {
   "name": "python",
   "version": "3.10.6"
  },
  "orig_nbformat": 4,
  "vscode": {
   "interpreter": {
    "hash": "0e6b3d2a7ada1bf93e2fa6e6f216d341268c89e23c4da71923a9f50c3e40ffee"
   }
  }
 },
 "nbformat": 4,
 "nbformat_minor": 2
}
